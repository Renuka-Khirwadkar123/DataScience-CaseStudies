{
 "cells": [
  {
   "cell_type": "markdown",
   "id": "cd9551f6",
   "metadata": {},
   "source": [
    "1. Data loading and initial exploration\n",
    "\n",
    "Load the dataset into a pandas DataFrame\n",
    "Explore the first few rows to understand the structure of data\n",
    "Check the data types, summary statistics, and unique values of each column\n",
    "Identify any data quality issues or inconsistencies"
   ]
  },
  {
   "cell_type": "code",
   "execution_count": 8,
   "id": "57933155",
   "metadata": {},
   "outputs": [
    {
     "name": "stdout",
     "output_type": "stream",
     "text": [
      "<class 'pandas.core.frame.DataFrame'>\n",
      "RangeIndex: 10014 entries, 0 to 10013\n",
      "Data columns (total 21 columns):\n",
      " #   Column         Non-Null Count  Dtype  \n",
      "---  ------         --------------  -----  \n",
      " 0   Row ID         10014 non-null  int64  \n",
      " 1   Order ID       10014 non-null  object \n",
      " 2   Order Date     10014 non-null  object \n",
      " 3   Ship Date      10014 non-null  object \n",
      " 4   Ship Mode      9916 non-null   object \n",
      " 5   Customer ID    10014 non-null  object \n",
      " 6   Customer Name  10014 non-null  object \n",
      " 7   Segment        10014 non-null  object \n",
      " 8   Country        10014 non-null  object \n",
      " 9   City           10014 non-null  object \n",
      " 10  State          10014 non-null  object \n",
      " 11  Postal Code    10014 non-null  int64  \n",
      " 12  Region         10014 non-null  object \n",
      " 13  Product ID     10014 non-null  object \n",
      " 14  Category       10014 non-null  object \n",
      " 15  Sub-Category   10014 non-null  object \n",
      " 16  Product Name   10014 non-null  object \n",
      " 17  Sales Price    10014 non-null  float64\n",
      " 18  Quantity       9996 non-null   float64\n",
      " 19  Discount       10014 non-null  float64\n",
      " 20  Profit         10014 non-null  float64\n",
      "dtypes: float64(4), int64(2), object(15)\n",
      "memory usage: 1.6+ MB\n",
      "Data information:\n",
      " None \n",
      "\n"
     ]
    }
   ],
   "source": [
    "import pandas as pd\n",
    "\n",
    "df=pd.read_csv(\"../CaseStudy3/SuperStore_Dataset.csv\")\n",
    "# Display the first 10 rows of the DataFrame    \n",
    "#first_10_rows_data = df.head(10)\n",
    "#print(f\"First 10 rows of data:\\n {first_10_rows_data} \\n\")\n",
    "# Display the last 10 rows of the DataFrame    \n",
    "#last_10_rows_data = df.tail(10)\n",
    "#print(f\"Last 10 rows of data: \\n {last_10_rows_data}\")\n",
    "# Display the data types of each column in the DataFrame\n",
    "#data_types_in_datasets=df.dtypes\n",
    "#print(f\"Data types in the dataset:\\n {data_types_in_datasets} \\n\")\n",
    "#display summary statistics of the DataFrame\n",
    "#summary_statistics = df.describe()\n",
    "#print(f\"Summary statistics of the dataset:\\n {summary_statistics} \\n\")\n",
    "#Display unique values in all columns of the DataFrame\n",
    "#unique_values = {col: df[col].unique() for col in df.columns}\n",
    "#print(f\"Unique values in each column:\\n {unique_values} \\n\")\n",
    "#describe the DataFrame\n",
    "data_information=df.info()\n",
    "print(f\"Data information:\\n {data_information} \\n\")\n"
   ]
  }
 ],
 "metadata": {
  "kernelspec": {
   "display_name": ".venv",
   "language": "python",
   "name": "python3"
  },
  "language_info": {
   "codemirror_mode": {
    "name": "ipython",
    "version": 3
   },
   "file_extension": ".py",
   "mimetype": "text/x-python",
   "name": "python",
   "nbconvert_exporter": "python",
   "pygments_lexer": "ipython3",
   "version": "3.13.3"
  }
 },
 "nbformat": 4,
 "nbformat_minor": 5
}
